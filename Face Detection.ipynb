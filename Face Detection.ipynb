{
 "cells": [
  {
   "cell_type": "code",
   "execution_count": 7,
   "id": "896be787-a998-4a8e-8365-5a12afe8a6c8",
   "metadata": {},
   "outputs": [],
   "source": [
    "#https://towardsdatascience.com/face-detection-in-just-5-lines-of-code-5cc6087cb1a9\n",
    "import PIL.Image\n",
    "import PIL.ImageDraw\n",
    "import face_recognition"
   ]
  },
  {
   "cell_type": "code",
   "execution_count": 8,
   "id": "e5783516-9678-43d0-a8c1-c70319802d3c",
   "metadata": {},
   "outputs": [],
   "source": [
    "given_image = face_recognition.load_image_file('Tekkom20.jpeg')\n",
    "#given_image = face_recognition.load_image_file('kelas ML.jpg')"
   ]
  },
  {
   "cell_type": "code",
   "execution_count": 9,
   "id": "145c99f1-aaec-4da5-8c75-d2776f5fa777",
   "metadata": {},
   "outputs": [
    {
     "name": "stdout",
     "output_type": "stream",
     "text": [
      "We found 25 face(s) in this image.\n"
     ]
    }
   ],
   "source": [
    "face_locations = face_recognition.face_locations(given_image)\n",
    "\n",
    "number_of_faces = len(face_locations)\n",
    "print(\"We found {} face(s) in this image.\".format(number_of_faces))"
   ]
  },
  {
   "cell_type": "code",
   "execution_count": 10,
   "id": "24a7c78c-046e-4283-af46-662340b8699c",
   "metadata": {},
   "outputs": [],
   "source": [
    "pil_image = PIL.Image.fromarray(given_image)"
   ]
  },
  {
   "cell_type": "code",
   "execution_count": 11,
   "id": "64b09d03-0e50-41e1-a638-1785df29131d",
   "metadata": {},
   "outputs": [
    {
     "name": "stdout",
     "output_type": "stream",
     "text": [
      "A face is detected at pixel location Top: 562, Left: 538, Bottom: 614, Right: 487\n",
      "A face is detected at pixel location Top: 494, Left: 913, Bottom: 530, Right: 877\n",
      "A face is detected at pixel location Top: 583, Left: 674, Bottom: 626, Right: 631\n",
      "A face is detected at pixel location Top: 562, Left: 394, Bottom: 614, Right: 343\n",
      "A face is detected at pixel location Top: 539, Left: 250, Bottom: 591, Right: 199\n",
      "A face is detected at pixel location Top: 494, Left: 677, Bottom: 530, Right: 641\n",
      "A face is detected at pixel location Top: 486, Left: 605, Bottom: 522, Right: 569\n",
      "A face is detected at pixel location Top: 562, Left: 1241, Bottom: 614, Right: 1189\n",
      "A face is detected at pixel location Top: 410, Left: 261, Bottom: 454, Right: 218\n",
      "A face is detected at pixel location Top: 391, Left: 1469, Bottom: 453, Right: 1407\n",
      "A face is detected at pixel location Top: 439, Left: 429, Bottom: 482, Right: 386\n",
      "A face is detected at pixel location Top: 434, Left: 357, Bottom: 478, Right: 314\n",
      "A face is detected at pixel location Top: 449, Left: 1183, Bottom: 492, Right: 1140\n",
      "A face is detected at pixel location Top: 593, Left: 933, Bottom: 636, Right: 890\n",
      "A face is detected at pixel location Top: 449, Left: 1092, Bottom: 492, Right: 1048\n",
      "A face is detected at pixel location Top: 569, Left: 808, Bottom: 612, Right: 765\n",
      "A face is detected at pixel location Top: 470, Left: 757, Bottom: 506, Right: 721\n",
      "A face is detected at pixel location Top: 498, Left: 837, Bottom: 534, Right: 801\n",
      "A face is detected at pixel location Top: 473, Left: 991, Bottom: 516, Right: 947\n",
      "A face is detected at pixel location Top: 478, Left: 521, Bottom: 514, Right: 485\n",
      "A face is detected at pixel location Top: 556, Left: 1391, Bottom: 608, Right: 1339\n",
      "A face is detected at pixel location Top: 583, Left: 1058, Bottom: 626, Right: 1015\n",
      "A face is detected at pixel location Top: 410, Left: 1356, Bottom: 454, Right: 1312\n",
      "A face is detected at pixel location Top: 389, Left: 158, Bottom: 441, Right: 106\n",
      "A face is detected at pixel location Top: 414, Left: 1257, Bottom: 450, Right: 1221\n"
     ]
    }
   ],
   "source": [
    "for face_location in face_locations:\n",
    "    top, left, bottom, right = face_location\n",
    "    print(\"A face is detected at pixel location Top: {}, Left: {}, Bottom: {}, Right: {}\".format(top, left, bottom, right))\n",
    "    draw = PIL.ImageDraw.Draw(pil_image)\n",
    "    draw.rectangle([left, top, right, bottom], outline=\"green\", width=10)"
   ]
  },
  {
   "cell_type": "code",
   "execution_count": 12,
   "id": "edb9ec4e-8d86-4543-9140-7c83dc1eb91e",
   "metadata": {},
   "outputs": [],
   "source": [
    "pil_image.show()"
   ]
  },
  {
   "cell_type": "code",
   "execution_count": null,
   "id": "7e59157b-8033-46c6-ba8d-c1c63e66f8dd",
   "metadata": {},
   "outputs": [],
   "source": []
  }
 ],
 "metadata": {
  "kernelspec": {
   "display_name": "Python 3 (ipykernel)",
   "language": "python",
   "name": "python3"
  },
  "language_info": {
   "codemirror_mode": {
    "name": "ipython",
    "version": 3
   },
   "file_extension": ".py",
   "mimetype": "text/x-python",
   "name": "python",
   "nbconvert_exporter": "python",
   "pygments_lexer": "ipython3",
   "version": "3.9.10"
  }
 },
 "nbformat": 4,
 "nbformat_minor": 5
}
